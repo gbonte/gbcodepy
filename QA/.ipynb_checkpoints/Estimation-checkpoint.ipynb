{
 "cells": [
  {
   "cell_type": "markdown",
   "id": "abead0e1-97ea-4b52-ba63-247f67e04f36",
   "metadata": {},
   "source": [
    "## Q1\n",
    "\n",
    "Let $ {\\mathbf x} $   and $ {\\mathbf  y} $  two discrete independent  r.v.s \n",
    "such that \n",
    "\n",
    "$ P_{{\\mathbf x}}(-1)=0.1, P_{{\\mathbf x}}(0)=0.8,   P_{{\\mathbf x}}(1)=0.1 $\n",
    "and\n",
    "$ P_{{\\mathbf y}}(1)=0.1, P_{{\\mathbf y}}(2)=0.8,   P_{{\\mathbf y}}(3)=0.1 $\n",
    "\n",
    "Compute\n",
    "$ E[{\\mathbf x}], E[{\\mathbf y }]= $\n",
    "\n",
    "\n",
    "If $ {\\mathbf z}={\\mathbf x}+{\\mathbf  y} $ compute numerically\n",
    "$ E[{\\mathbf z }]$ and verify\n",
    " that  $ E[{\\mathbf z}]=E[{\\mathbf x}]+E[{\\mathbf y}] $"
   ]
  },
  {
   "cell_type": "code",
   "execution_count": null,
   "id": "1928ae9f-625f-49b8-98d4-125e2c742da9",
   "metadata": {},
   "outputs": [],
   "source": []
  }
 ],
 "metadata": {
  "kernelspec": {
   "display_name": "Python 3 (ipykernel)",
   "language": "python",
   "name": "python3"
  },
  "language_info": {
   "codemirror_mode": {
    "name": "ipython",
    "version": 3
   },
   "file_extension": ".py",
   "mimetype": "text/x-python",
   "name": "python",
   "nbconvert_exporter": "python",
   "pygments_lexer": "ipython3",
   "version": "3.12.8"
  }
 },
 "nbformat": 4,
 "nbformat_minor": 5
}
