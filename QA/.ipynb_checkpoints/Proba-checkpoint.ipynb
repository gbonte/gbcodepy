{
 "cells": [
  {
   "cell_type": "markdown",
   "id": "abead0e1-97ea-4b52-ba63-247f67e04f36",
   "metadata": {},
   "source": [
    "## PROBA.QA.1\n",
    "\n",
    "Let $ {\\mathbf x} $   and $ {\\mathbf  y} $  two discrete independent  r.v.s \n",
    "such that \n",
    "\n",
    "$ P_{{\\mathbf x}}(-1)=0.1, P_{{\\mathbf x}}(0)=0.8,   P_{{\\mathbf x}}(1)=0.1 $\n",
    "and\n",
    "$ P_{{\\mathbf y}}(1)=0.1, P_{{\\mathbf y}}(2)=0.8,   P_{{\\mathbf y}}(3)=0.1 $\n",
    "\n",
    "Compute\n",
    "$ E[{\\mathbf x}], E[{\\mathbf y }]= $\n",
    "\n",
    "\n",
    "If $ {\\mathbf z}={\\mathbf x}+{\\mathbf  y} $ compute numerically\n",
    "$ E[{\\mathbf z }]$ and verify\n",
    " that  $ E[{\\mathbf z}]=E[{\\mathbf x}]+E[{\\mathbf y}] $"
   ]
  },
  {
   "cell_type": "markdown",
   "id": "ca4238cb-28a3-4d8f-b861-297f305f553a",
   "metadata": {
    "jp-MarkdownHeadingCollapsed": true,
    "jupyter": {
     "source_hidden": true
    }
   },
   "source": [
    "### Solution\n",
    "\n",
    "$E[{\\mathbf x}]=-1*0.1+0.1=0$\n",
    "\n",
    "$E[{\\mathbf x}]=0.1+1.6+0.3=2$\n",
    "\n",
    "The domain of $\\mathbf z $  is: \n",
    "$${0, 1, 2, 3, 4}$$ and the probability function takes the values\n",
    "$$P={0.01, 0.16,0.66,0.16,0.01}$$\n",
    "\n",
    "$E[\\mathbf z ]=0.16+0.66*2+0.16*3+0.01*4=2=E[{\\mathbf x}]+ E[{\\mathbf x}]$\n",
    "\n"
   ]
  },
  {
   "cell_type": "markdown",
   "id": "2751c46b-4cc2-4796-9ff8-9095a4b82e53",
   "metadata": {},
   "source": [
    "## PROBA.QA.2\n",
    "\n",
    "Let $ {\\mathbf x} $ and $ {\\mathbf  y} $  two discrete r.v.s. \n",
    "The domain of $ {\\mathbf x} $ is   \\{-1,0,1\\} $ and its probability distribution is uniform (i.e. 1/3 for all values). \n",
    "\n",
    "Let $ {\\mathbf  y} = {\\mathbf x}^2 $ \n",
    "\n",
    " * Compute  $E[\\mathbf x \\mathbf y ]$\n",
    "\n",
    " * Show that the two variables are uncorrelated yet dependent.\n",
    " \n"
   ]
  },
  {
   "cell_type": "markdown",
   "id": "9b379f38-3c87-44d7-a01a-71ec86835d3c",
   "metadata": {
    "jupyter": {
     "source_hidden": true
    }
   },
   "source": [
    "### Solution \n",
    "\n",
    "While ${\\mathbf x}$  takes three values, ${\\mathbf y}$ may take only two values: 0 and 1.\n",
    "Also\n",
    "$E[\\mathbf x]= 0$\n",
    "\n",
    "The variable ${\\mathbf z}={\\mathbf x} {\\mathbf y}$ may then take three  values: \n",
    "$$-1, 0, 1$$\n",
    "\n",
    "Let us compute the probability of the three possible values\n",
    "\n",
    "* $P({\\mathbf z}=-1)= P({\\mathbf x}=-1,{\\mathbf y}=1)=P({\\mathbf y}=1| \\mathbf{x}=-1) P({\\mathbf x}=-1)=1*1/3$\n",
    "* $P({\\mathbf z}=0)= P({\\mathbf x}=1,{\\mathbf y}=0)+P(\\mathbf x=-1,{\\mathbf y}=0)+P({\\mathbf x}=0,{\\mathbf y}=0)=0+0+1/3$\n",
    "* $P(\\mathbf{z}=1)=P({\\mathbf x}=1,{\\mathbf y}=1)=1/3$\n",
    "\n",
    "\n",
    "Then $E[\\mathbf{z}]=E[\\mathbf x \\mathbf y] = -1/3+0+1/3=0 = E[\\mathbf x]E[\\mathbf y] $\n",
    "\n",
    "The two variables are then uncorrelated but dependent\n",
    "\n",
    "$ P({\\mathbf y}=0) =P({\\mathbf x}=0)=1/3 \\neq  P(\\mathbf y =0| \\mathbf x=0 )=1 $ \n",
    "\n"
   ]
  },
  {
   "cell_type": "code",
   "execution_count": null,
   "id": "a678417b-3c4f-4ca2-aa15-11c09eff78fd",
   "metadata": {},
   "outputs": [],
   "source": []
  }
 ],
 "metadata": {
  "kernelspec": {
   "display_name": "Python 3 (ipykernel)",
   "language": "python",
   "name": "python3"
  },
  "language_info": {
   "codemirror_mode": {
    "name": "ipython",
    "version": 3
   },
   "file_extension": ".py",
   "mimetype": "text/x-python",
   "name": "python",
   "nbconvert_exporter": "python",
   "pygments_lexer": "ipython3",
   "version": "3.12.8"
  }
 },
 "nbformat": 4,
 "nbformat_minor": 5
}
