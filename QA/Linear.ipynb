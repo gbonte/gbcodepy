{
 "cells": [
  {
   "cell_type": "markdown",
   "id": "00d1728a-22b3-4a5c-8a3a-3d602e51ff86",
   "metadata": {},
   "source": [
    "# Linear regression"
   ]
  },
  {
   "cell_type": "markdown",
   "id": "db569a7b-d1eb-46c7-a68c-eac6179e0e05",
   "metadata": {},
   "source": [
    "## LIN.QA.2\n",
    "Consider the  dataframe <span style=\"font-family:Courier; \"> D</span> in the \n",
    "<span style=\"font-family:Courier; \"> data2.pkl</span> pickle file.\n",
    "\n",
    "It contains the i.i.d. dataset of a regression task where target is ${\\mathbf y} \\in \\mathbb R$  and the input $x \\in \\mathbb R^2$.\n",
    "\n",
    " \n",
    "\n",
    "The student should consider the following list of models:\n",
    "\n",
    "1. $h(x)=\\beta_0$\n",
    "2. $ h(x)=\\beta_0+\\beta_1 x_1+\\beta_2 x_2$\n",
    "3. $ h(x)=\\beta_0+\\beta_1 x_1 $\n",
    "4. $ h(x)=\\beta_0+\\beta_1 x_1^2+\\beta_2 x_2^2 $\n",
    "5. $h(x)=\\beta_0+\\beta_1 x_1+\\beta_2 x_2 +\\beta_3 x_1^2+\\beta_4 x_2^2+\\beta_5 x_1 x_2 +\\beta_6 x_1^3 +\\beta_7 x_2^3$\n",
    "6. $ h(x)=\\beta_0+\\beta_1 x_1^2 $\n",
    "7. $ h(x)=\\beta_0+\\beta_1 x_2^2 $\n",
    "8. $ h(x)=\\beta_0+\\beta_1 x_1^3 $\n",
    "9. $ h(x)=\\beta_0+\\beta_1 x_1^2+\\beta_2 x_2^2 +\\beta_3 x_1 x_2 $\n",
    "\n",
    " By using Python, the student should answer the following questions. Using functions implementing linear models (like in sklearn) is NOT allowed.\n",
    "\n",
    "1. Which model has the lowest empirical risk?\n",
    "2. Which model has the lowest FPE error?\n",
    "3. Which model has the lowest generalisation error (estimated by leave-one-out)?\n",
    "4. What is the least squares estimate of \\(\\beta_0\\) in model 1?\n",
    "5. What is the least-squares estimate of \\(\\beta_0\\) in model 9?\n",
    "\n",
    "\n",
    "\n",
    "\n",
    "\n",
    "Use the instructions\n",
    "```python\n",
    "import pickle\n",
    "with open(\"data2.pkl\", 'rb') as f:\n",
    "    data = pickle.load(f)\n",
    "D=data[\"D\"]\n",
    "```\n",
    "to load the data frame in Python."
   ]
  },
  {
   "cell_type": "code",
   "execution_count": 1,
   "id": "bed5d008-1e73-432a-89b3-5d36e1839e9e",
   "metadata": {},
   "outputs": [],
   "source": [
    "import pickle\n",
    "with open(\"data2.pkl\", 'rb') as f:\n",
    "    data = pickle.load(f)\n",
    "D=data[\"D\"]"
   ]
  },
  {
   "cell_type": "markdown",
   "id": "2bf52899-aa57-4cb0-8935-4277611827ab",
   "metadata": {},
   "source": [
    "## Dataset extraction"
   ]
  },
  {
   "cell_type": "code",
   "execution_count": 3,
   "id": "ef4d6fc8-f45f-4b2d-93fc-4c3f67b342c8",
   "metadata": {},
   "outputs": [],
   "source": [
    "import numpy as np\n",
    "\n",
    "# Extract X and Y\n",
    "X = D[:, :2]\n",
    "Y = D[:, 2]\n",
    "N = D.shape[0]\n",
    "n = X.shape[1]\n",
    "\n",
    "\n"
   ]
  },
  {
   "cell_type": "markdown",
   "id": "306481ec-ccb5-4b95-a656-1dc23c772f0b",
   "metadata": {},
   "source": [
    "## Creation dataframes for linear regression"
   ]
  },
  {
   "cell_type": "code",
   "execution_count": 5,
   "id": "ee02007d-bf48-40c9-bbd1-61ff0510b498",
   "metadata": {},
   "outputs": [],
   "source": [
    "\n",
    "# Create a vector of ones\n",
    "ones_n = np.ones(N)\n",
    "\n",
    "# Create matrices M1 to M9\n",
    "M1 = ones_n.reshape(N, 1)\n",
    "M2 = np.column_stack((ones_n, X[:, 0], X[:, 1]))\n",
    "M3 = np.column_stack((ones_n, X[:, 0]))\n",
    "M4 = np.column_stack((ones_n, X[:, 0]**2, X[:, 1]**2))\n",
    "M5 = np.column_stack((\n",
    "    ones_n, \n",
    "    X[:, 0], \n",
    "    X[:, 1], \n",
    "    X[:, 0]**2, \n",
    "    X[:, 1]**2, \n",
    "    X[:, 0]*X[:, 1], \n",
    "    X[:, 0]**3, \n",
    "    X[:, 1]**3\n",
    "))\n",
    "M6 = np.column_stack((ones_n, X[:, 0]**2))\n",
    "M7 = np.column_stack((ones_n, X[:, 1]**2))\n",
    "M8 = np.column_stack((ones_n, X[:, 0]**3))\n",
    "M9 = np.column_stack((ones_n, X[:, 0]**2, X[:, 1]**2, X[:, 0]*X[:, 1]))\n",
    "\n",
    "# List of M matrices\n",
    "M_list = [M1, M2, M3, M4, M5, M6, M7, M8, M9]\n",
    "\n",
    "\n"
   ]
  },
  {
   "cell_type": "markdown",
   "id": "ce0a1c74-683e-48cf-a6f9-0a1aa23bd6ed",
   "metadata": {},
   "source": [
    "## Linear regression function\n",
    "It computes \n",
    "* the least squares parameter identification\n",
    "* empirical risk\n",
    "* leave-one-out generalisation error\n",
    "* FPE criterion\n",
    "  "
   ]
  },
  {
   "cell_type": "code",
   "execution_count": 4,
   "id": "2d5fbfd1-382c-4cde-bf28-bba5867d6a96",
   "metadata": {},
   "outputs": [],
   "source": [
    "def fpe(M, Y):\n",
    "    \"\"\"\n",
    "    Compute FPE, Remp, beta0, and LOO for given M and Y.\n",
    "    \"\"\"\n",
    "    # Calculate beta using the normal equation\n",
    "    beta = np.linalg.inv(M.T @ M) @ M.T @ Y\n",
    "    p = M.shape[1]\n",
    "    \n",
    "    # Predicted Y\n",
    "    Y_hat = M @ beta\n",
    "    \n",
    "    # Residuals\n",
    "    e = Y - Y_hat\n",
    "    \n",
    "    # Initialize LOO residuals\n",
    "    loo = np.zeros(N)\n",
    "    \n",
    "    for i in range(N):\n",
    "        # Remove the i-th observation\n",
    "        Mi = np.delete(M, i, axis=0)\n",
    "        Yi = np.delete(Y, i)\n",
    "        \n",
    "        # Calculate beta for the reduced dataset\n",
    "        betai = np.linalg.inv(Mi.T @ Mi) @ Mi.T @ Yi\n",
    "        \n",
    "        # Predict the i-th observation\n",
    "        Y_hat_i = M[i, :] @ betai\n",
    "        \n",
    "        # Calculate LOO residual\n",
    "        loo[i] = Y[i] - Y_hat_i\n",
    "    \n",
    "    # Calculate FPE and Remp\n",
    "    Fpe = (1 + p / N) / (1 - p / N) * np.mean(e**2)\n",
    "    Remp = np.mean(e**2)\n",
    "    beta0 = beta[0]\n",
    "    LOO = np.mean(loo**2)\n",
    "    \n",
    "    return {\n",
    "        \"Fpe\": Fpe,\n",
    "        \"Remp\": Remp,\n",
    "        \"beta0\": beta0,\n",
    "        \"LOO\": LOO\n",
    "    }\n"
   ]
  },
  {
   "cell_type": "code",
   "execution_count": null,
   "id": "52a58934-7f07-4334-a909-5130062746ad",
   "metadata": {},
   "outputs": [],
   "source": [
    "\n",
    "# Initialize lists to store results\n",
    "fp = []\n",
    "remp = []\n",
    "beta0 = []\n",
    "loo = []\n",
    "\n",
    "# Calculate FPE for each M matrix\n",
    "for i in range(9):\n",
    "    results = fpe(M_list[i], Y)\n",
    "    fp.append(results[\"Fpe\"])\n",
    "    remp.append(results[\"Remp\"])\n",
    "    beta0.append(results[\"beta0\"])\n",
    "    loo.append(results[\"LOO\"])\n",
    "\n",
    "# Find indices with minimum Remp and FP (adding 1 to match R's 1-based indexing)\n",
    "min_remp_index = np.argmin(remp) + 1\n",
    "min_fp_index = np.argmin(fp) + 1\n",
    "min_loo_index = np.argmin(loo) + 1\n",
    "\n"
   ]
  },
  {
   "cell_type": "markdown",
   "id": "70d20ae4-caad-447b-bdb8-35eda35b78dc",
   "metadata": {},
   "source": [
    "## Print results"
   ]
  },
  {
   "cell_type": "code",
   "execution_count": 7,
   "id": "063a7447-d67d-4513-91f4-665081c5e885",
   "metadata": {},
   "outputs": [
    {
     "name": "stdout",
     "output_type": "stream",
     "text": [
      "\n",
      " which.min(Remp)=5 \n",
      " which.min(FP)=9 \n",
      " which.min(LOO)=9 \n",
      " \n",
      " beta0_1=3.756133372362787 \n",
      " beta0_9=0.8389855702311156\n",
      "\n",
      "Remp=[20.383312889362127, 15.667690765989743, 18.341727559983266, 9.725145612395208, 0.16970407382974798, 16.312997989394113, 12.268665327312657, 19.47084348173513, 0.1866383730239761]\n",
      "\n",
      "FP=[21.21528484402997, 17.667821502073544, 19.87020485664854, 10.966653562913747, 0.2343532448125091, 17.67241448851029, 13.291054104588714, 21.093413771879728, 0.21909722050640673]\n",
      "\n",
      "LOO=[21.22377435377148, 19.892220493625448, 20.870249756689518, 19.81884361463974, 0.2510710658316887, 24.40675862529736, 16.12036554767194, 27.521960487495026, 0.22703969639219956]\n",
      " -- \n",
      "\n"
     ]
    }
   ],
   "source": [
    "# Print the results\n",
    "print(f\"\\n which.min(Remp)={min_remp_index}\",\n",
    "      f\"\\n which.min(FP)={min_fp_index}\",\n",
    "      f\"\\n which.min(LOO)={min_loo_index}\",\n",
    "      f\"\\n \\n beta0_1={beta0[0]}\",\n",
    "      f\"\\n beta0_9={beta0[8]}\\n\")\n",
    "\n",
    "print(f\"Remp={remp}\\n\")\n",
    "print(f\"FP={fp}\\n\")\n",
    "print(f\"LOO={loo}\\n -- \\n\")"
   ]
  },
  {
   "cell_type": "code",
   "execution_count": null,
   "id": "2d87502f-a9b5-4c62-920c-85d6bb794250",
   "metadata": {},
   "outputs": [],
   "source": []
  }
 ],
 "metadata": {
  "kernelspec": {
   "display_name": "Python 3 (ipykernel)",
   "language": "python",
   "name": "python3"
  },
  "language_info": {
   "codemirror_mode": {
    "name": "ipython",
    "version": 3
   },
   "file_extension": ".py",
   "mimetype": "text/x-python",
   "name": "python",
   "nbconvert_exporter": "python",
   "pygments_lexer": "ipython3",
   "version": "3.12.8"
  }
 },
 "nbformat": 4,
 "nbformat_minor": 5
}
