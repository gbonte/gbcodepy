{
 "cells": [
  {
   "cell_type": "markdown",
   "id": "d3a4147e-ab6a-41c7-8f2b-45938ab91ff0",
   "metadata": {},
   "source": [
    "# Exercise 3\n",
    "## Bias/variance analysis in regression\n",
    "### G. Bontempi\n",
    "\n"
   ]
  },
  {
   "cell_type": "markdown",
   "id": "bd4545f3",
   "metadata": {},
   "source": [
    "## Question\n",
    "\n",
    "Let us consider the dependency where the conditional distribution of ${\\mathbf y}$ is\n",
    "$$\n",
    "{\\mathbf y}= \\sin(2 \\pi x_1 x_2 x_3)+{\\mathbf w}\n",
    "$$\n",
    "and ${\\mathbf w}\\sim N(0,\\sigma^2)$ with $\\sigma=0.25$.\n",
    "Suppose that ${\\mathbf x} \\in {\\mathbb R}^3$\n",
    "has a 3D normal distribution with an identity covariance matrix.\n",
    "The number of observed input/output samples is $N=100$.\n",
    "\n",
    "Consider the following families of learners:\n",
    "\n",
    "* constant model returning always zero\n",
    "* constant model $h(x)=\\beta_0$\n",
    "* linear model $h(x)=x^T \\beta$\n",
    "* $K$ nearest neighbour for $K=1,3,5,7$ where the distance is Euclidean\n",
    "\n",
    "Implement for each learner above a function"
   ]
  },
  {
   "cell_type": "code",
   "execution_count": 2,
   "id": "e5d77654",
   "metadata": {},
   "outputs": [],
   "source": [
    "\n",
    "def learner(Xtr, Ytr, Xts):\n",
    "    ####\n",
    "    # Xtr [N,n] input training set\n",
    "    # Ytr [N,1] output training set\n",
    "    # Xts [Nts,n] input test set\n",
    "    return Yhat\n",
    "\n"
   ]
  },
  {
   "cell_type": "markdown",
   "id": "00086c1e",
   "metadata": {},
   "source": [
    "which returns a vector $[N_{ts},1]$ of predictions for the given input test set."
   ]
  },
  {
   "cell_type": "markdown",
   "id": "e7535641",
   "metadata": {},
   "source": [
    "By using Monte Carlo simulation ($S=100$ runs) and by using a fixed-input test set of size $N_{ts}=1000$\n",
    "\n",
    "* compute the average squared bias of all the learners,\n",
    "* compute the average variance of all the learners,\n",
    "* check the relation between squared bias, variance, noise variance and MSE\n",
    "* define what is the best learner in terms of MSE,\n",
    "* discuss the results.\n"
   ]
  },
  {
   "cell_type": "markdown",
   "id": "ee5c66f4",
   "metadata": {},
   "source": [
    "\n",
    "\n",
    "## Learners"
   ]
  },
  {
   "cell_type": "code",
   "execution_count": 3,
   "id": "565c19e1",
   "metadata": {
    "eval": true,
    "lines_to_next_cell": 2
   },
   "outputs": [],
   "source": [
    "\n",
    "\n",
    "import numpy as np\n",
    "\n",
    "def zeroL(Xtr, Ytr, Xts):\n",
    "    Nts = Xts.shape[0]\n",
    "    Yhat = np.zeros(Nts)\n",
    "    return Yhat\n",
    "\n",
    "def constantL(Xtr, Ytr, Xts):\n",
    "    Nts = Xts.shape[0]\n",
    "    Yhat = np.full(Nts, np.mean(Ytr))\n",
    "    return Yhat\n",
    "\n",
    "def linearL(Xtr, Ytr, Xts):\n",
    "    Nts = Xts.shape[0]\n",
    "    N = Xtr.shape[0]\n",
    "    # Add a column of ones for the intercept\n",
    "    XXtr = np.hstack((np.ones((N, 1)), Xtr))\n",
    "    XXts = np.hstack((np.ones((Nts, 1)), Xts))\n",
    "    # Compute beta hat using the normal equation\n",
    "    betahat = np.linalg.inv(XXtr.T @ XXtr) @ XXtr.T @ Ytr\n",
    "    Yhat = XXts @ betahat\n",
    "    return Yhat\n",
    "\n",
    "def knnL(Xtr, Ytr, Xts, K=1):\n",
    "    Nts = Xts.shape[0]\n",
    "    N = Xtr.shape[0]\n",
    "    Yhat = np.zeros(Nts)\n",
    "    for i in range(Nts):\n",
    "        # Compute the squared Euclidean distance\n",
    "        differences = Xtr - Xts[i, :]\n",
    "        distances = np.mean(differences ** 2, axis=1)\n",
    "        # Get the indices of the K smallest distances\n",
    "        iD = np.argsort(distances)[:K]\n",
    "        Yhat[i] = np.mean(Ytr[iD])\n",
    "    return Yhat\n",
    "\n",
    "\n"
   ]
  },
  {
   "cell_type": "markdown",
   "id": "f283ed3f",
   "metadata": {},
   "source": [
    "## Monte Carlo Simulation\n"
   ]
  },
  {
   "cell_type": "code",
   "execution_count": 50,
   "id": "32814bda",
   "metadata": {},
   "outputs": [
    {
     "name": "stdout",
     "output_type": "stream",
     "text": [
      "Squared bias+variance +noise= [0.46 0.47 0.48 0.73 0.52 0.49 0.48]\n",
      "MSE= [0.46 0.47 0.48 0.73 0.52 0.49 0.48]\n"
     ]
    }
   ],
   "source": [
    "# chunk 3\n",
    "\n",
    "import numpy as np\n",
    "\n",
    "np.random.seed(0)\n",
    "N = 100  # number of samples\n",
    "Nts = 1000\n",
    "n = 3\n",
    "S = 100  # number of MC trials\n",
    "models = [\"zero\", \"const\", \"lin\", \"1NN\", \"3NN\", \"5NN\", \"7NN\"]\n",
    "sdw = 0.25  # standard deviation of noise\n",
    "M = len(models)\n",
    "Xts = np.random.randn(Nts, n)\n",
    "\n",
    "fts = np.sin(2 * np.pi * Xts[:, 0] * Xts[:, 1] * Xts[:, 2])\n",
    "YH = np.zeros((S, Nts, M))\n",
    "Ytrue = []\n",
    "\n",
    "for s in range(S):\n",
    "    Yts = np.sin(2 * np.pi * Xts[:, 0] * Xts[:, 1] * Xts[:, 2]) + np.random.normal(0, sdw, Nts)\n",
    "    Xtr = np.random.randn(N, n)\n",
    "    Ytr = np.sin(2 * np.pi * Xtr[:, 0] * Xtr[:, 1] * Xtr[:, 2]) + np.random.normal(0, sdw, N)\n",
    "    \n",
    "    Yhats1 = zeroL(Xtr, Ytr, Xts)\n",
    "    YH[s, :, 0] = Yhats1\n",
    "    \n",
    "    Yhats2 = constantL(Xtr, Ytr, Xts)\n",
    "    YH[s, :, 1] = Yhats2\n",
    "    \n",
    "    Yhats3 = linearL(Xtr, Ytr, Xts)\n",
    "    YH[s, :, 2] = Yhats3\n",
    "    \n",
    "    Yhats4 = knnL(Xtr, Ytr, Xts, K=1)\n",
    "    YH[s, :, 3] = Yhats4\n",
    "    \n",
    "    Yhats5 = knnL(Xtr, Ytr, Xts, K=3)\n",
    "    YH[s, :, 4] = Yhats5\n",
    "    \n",
    "    Yhats6 = knnL(Xtr, Ytr, Xts, K=5)\n",
    "    YH[s, :, 5] = Yhats6\n",
    "    \n",
    "    Yhats7 = knnL(Xtr, Ytr, Xts, K=7)\n",
    "    YH[s, :, 6] = Yhats7\n",
    "    \n",
    "    Ytrue.append(Yts)\n",
    "    \n",
    "\n",
    "Ytrue = np.vstack(Ytrue)\n",
    "\n",
    "mYH = np.mean(YH, axis=0)\n",
    "vYH = np.var(YH, axis=0)\n",
    "\n",
    "SBiases = np.mean((fts.reshape(-1,1)@np.ones((1,mYH.shape[1])) - mYH) ** 2, axis=0)\n",
    "Variances = np.mean(vYH, axis=0)\n",
    "\n",
    "MSE=[]\n",
    "SBiases=[]\n",
    "for m in np.arange(M):\n",
    "    SBiases.append(np.mean((fts - mYH[:,m]) ** 2, axis=0))\n",
    "    MSE.append(np.mean((Ytrue - YH[:,:,m]) ** 2, axis=(0, 1)))\n",
    "\n",
    "print('Squared bias+variance +noise=',np.round(SBiases + Variances + sdw ** 2,2))\n",
    "print('MSE=',np.round(MSE,2))\n"
   ]
  },
  {
   "cell_type": "markdown",
   "id": "b4cb6517",
   "metadata": {},
   "source": [
    "Here above we checked the identity between MSE, squared bias and variance \n"
   ]
  },
  {
   "cell_type": "code",
   "execution_count": 34,
   "id": "b22d4759",
   "metadata": {
    "lines_to_next_cell": 0
   },
   "outputs": [
    {
     "data": {
      "image/png": "[encoded data removed]",
      "text/plain": [
       "<Figure size 640x480 with 1 Axes>"
      ]
     },
     "metadata": {},
     "output_type": "display_data"
    },
    {
     "name": "stdout",
     "output_type": "stream",
     "text": [
      "bestModel= zero\n"
     ]
    }
   ],
   "source": [
    "\n",
    "\n",
    "import matplotlib.pyplot as plt\n",
    "\n",
    "plt.figure()\n",
    "plt.scatter(range(M), SBiases, color=\"red\", label=\"Bias^2\")\n",
    "plt.scatter(range(M), Variances, color=\"green\", label=\"Variance\")\n",
    "plt.scatter(range(M), MSE, color=\"black\", label=\"MSE\", linewidth=4)\n",
    "plt.xticks(range(M), models)\n",
    "plt.ylim(0, 1)\n",
    "plt.xlabel(\"Models\")\n",
    "plt.ylabel(\"\")\n",
    "plt.legend(loc=\"upper right\")\n",
    "plt.show()\n",
    "\n",
    "bestModel = models[np.argmin(MSE)]\n",
    "print('bestModel=',bestModel)"
   ]
  },
  {
   "cell_type": "markdown",
   "id": "cef7209e",
   "metadata": {},
   "source": [
    "The plot shows that the first three learner have low variance but  large bias.\n",
    "For the KNN learners it appears that the bias (variance) increases (decreases) by increasing $K$.\n",
    "\n",
    "The best model in terms of MSE is _bestModel_ since it shows the best tradeoff in terms of bias and variance. As you see it is not always the most sophisticated learning model which allows the best generalization!\n"
   ]
  },
  {
   "cell_type": "code",
   "execution_count": null,
   "id": "912017df-9424-426b-856a-b12b0d19c856",
   "metadata": {},
   "outputs": [],
   "source": []
  }
 ],
 "metadata": {
  "jupytext": {
   "cell_metadata_filter": "eval,-all",
   "main_language": "python",
   "notebook_metadata_filter": "-all"
  },
  "kernelspec": {
   "display_name": "Python 3 (ipykernel)",
   "language": "python",
   "name": "python3"
  },
  "language_info": {
   "codemirror_mode": {
    "name": "ipython",
    "version": 3
   },
   "file_extension": ".py",
   "mimetype": "text/x-python",
   "name": "python",
   "nbconvert_exporter": "python",
   "pygments_lexer": "ipython3",
   "version": "3.10.14"
  }
 },
 "nbformat": 4,
 "nbformat_minor": 5
}
