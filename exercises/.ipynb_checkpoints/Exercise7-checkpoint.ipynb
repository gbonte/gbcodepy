{
 "cells": [
  {
   "cell_type": "raw",
   "id": "c43feecd",
   "metadata": {},
   "source": [
    "---\n",
    "title: \"Exercise 7\"\n",
    "subtitle: \"Empirical, functional and generalisation risk\"\n",
    "author: \"G. Bontempi\"\n",
    "#date: \"3/4/2021\"\n",
    "output: pdf_document\n",
    "\n",
    "---"
   ]
  },
  {
   "cell_type": "code",
   "execution_count": null,
   "id": "f03d31ac",
   "metadata": {
    "name": "setup",
    "tags": [
     "remove_cell"
    ]
   },
   "outputs": [],
   "source": [
    "knitr::opts_chunk$set(echo = TRUE)"
   ]
  },
  {
   "cell_type": "markdown",
   "id": "cd321bde",
   "metadata": {},
   "source": [
    "## Question\n",
    "Consider an input/output regression task where $n=1$, \n",
    "$E[{\\mathbf y}|x]=\\sin( \\pi/2 x)$,  $p(y|x) = {\\mathcal N} (\\sin( \\pi/2 x),\\sigma^2)$,\n",
    "$\\sigma=0.1$ and ${\\mathbf x} \\sim {\\mathcal U}(-2,2)$. Let $N$ be the size of the training set\n",
    "and consider a quadratic loss function.\n",
    "\n",
    "Let the class of hypothesis be $h_M(x)=\\alpha_0 +\\sum_{m=1}^M \\alpha_m x^m$ with\n",
    "$\\alpha_j \\in [-2,2], j=0,\\dots,M$.\n",
    "\n",
    "For $N=20$ generate $S=50$ replicates of the training set.\n",
    "For each replicate, estimate the value of the parameters that minimise the empirical risk, \n",
    "compute the empirical risk and the functional risk.\n",
    "\n",
    "The student should\n",
    "\n",
    "* Plot the evolution of the distribution of the empirical risk for $M=0,1,2$.\n",
    "* Plot the evolution of the distribution of the functional risk for $M=0,1,2$.\n",
    "* Discuss the results."
   ]
  },
  {
   "cell_type": "markdown",
   "id": "f94394eb",
   "metadata": {},
   "source": [
    "Hints: to minimise the empirical risk, perform a grid search in the space of \n",
    "parameter values, i.e.  by sweeping all the possible values of the parameters in the set\n",
    "$[-1,-0.9,-0.8,\\dots,0.8,0.9,1]$.  To compute the functional risk generate a set of $N_{ts}=10000$ i.i.d. input/output testing samples."
   ]
  },
  {
   "cell_type": "markdown",
   "id": "ca219e48",
   "metadata": {},
   "source": [
    "## Regression function\n",
    "\n",
    "Let us first define a function implementing the\n",
    "conditional expectation function, i.e. the regression function\n",
    "\n"
   ]
  },
  {
   "cell_type": "code",
   "execution_count": null,
   "id": "98ae60e6",
   "metadata": {
    "name": "regression function"
   },
   "outputs": [],
   "source": [
    "\n",
    "rm(list=ls()) \n",
    "## This resets the memory space\n",
    "\n",
    "\n",
    "regrF<-function(X){\n",
    "  return(sin(pi/2*X))\n",
    "}\n"
   ]
  },
  {
   "cell_type": "markdown",
   "id": "f5eb0cd1",
   "metadata": {},
   "source": [
    "## Parametric identification function\n",
    "\n",
    "This function implements the parametric identification by performing\n",
    "a grid search in the space of parameters.\n",
    "Note that for a degree equal to $m$, there are $m+1$ parameters.\n",
    "If each parameter takes value in a set of values of size $V$, the number\n",
    "of configurations to be assessed by grid search amounts to $V^{m+1}$. Grid search is definitely\n",
    "a poor way of carrying out a parametric identification. Here it is used only\n",
    "to illustrate the notions of empirical risk."
   ]
  },
  {
   "cell_type": "code",
   "execution_count": null,
   "id": "081f1401",
   "metadata": {
    "lines_to_next_cell": 2,
    "name": "parametric identification"
   },
   "outputs": [],
   "source": [
    "\n",
    "\n",
    "parident<-function(X,Y,M=0){\n",
    "  \n",
    "  A=seq(-1,1,by=0.1)\n",
    "  ## set of values that can be taken by the parameter\n",
    "  \n",
    "  \n",
    "  N=NROW(X)\n",
    "  Xtr=numeric(N)+1\n",
    "  if (M>0)\n",
    "    for (m in 1:M)\n",
    "      Xtr=cbind(Xtr,X^m)\n",
    "  \n",
    "  l <- rep(list(A), M+1)\n",
    "  cA=expand.grid(l)   \n",
    "  ## set of all possible combinations of values\n",
    "  \n",
    "  bestE=Inf\n",
    "  \n",
    "  ## Grid search\n",
    "  for (i in 1:NROW(cA)){\n",
    "    Yhat=Xtr%*%t(cA[i,])\n",
    "    ehat=mean((Yhat-Y)^2)\n",
    "    if (ehat<bestE){\n",
    "      bestA=cA[i,]\n",
    "      ## best set of parameters\n",
    "      bestE=ehat\n",
    "      ## empirical risk associated to the best set of parameters\n",
    "    }\n",
    "  }\n",
    "  return(list(alpha=bestA,Remp=bestE))\n",
    "}"
   ]
  },
  {
   "cell_type": "markdown",
   "id": "f1479252",
   "metadata": {},
   "source": [
    "## Monte Carlo simulation\n",
    "\n",
    "Here we generate a number $S$ of training sets of size $N$.\n",
    "For each of them we perform the parametric identification, we select\n",
    "the set of parameters $\\alpha_N$ and we compute the functional risk \n",
    "by means of a test set of size $N_{ts}$"
   ]
  },
  {
   "cell_type": "code",
   "execution_count": null,
   "id": "ad8d0598",
   "metadata": {
    "name": "Monte Carlo simulation"
   },
   "outputs": [],
   "source": [
    "\n",
    "sdw=0.1\n",
    "S=50\n",
    "N=20\n",
    "M=2\n",
    "aEmp=array(NA,c(S,M+1))\n",
    "aFunct=array(NA,c(S,M+1))\n",
    "Nts=10000\n",
    "\n",
    "# test set generation\n",
    "Xts<-runif(Nts,-2,2) \n",
    "Yts=regrF(Xts)+rnorm(Nts,0,sdw) \n",
    "\n",
    "for (m in 0:M)\n",
    "  for ( s in 1:S){\n",
    "    ## training set generation\n",
    "    Xtr<-runif(N,-2,2) \n",
    "    Ytr=regrF(Xtr)+rnorm(N,0,sdw) \n",
    "    \n",
    "    \n",
    "    ParIdentification=parident(Xtr,Ytr,m)\n",
    "    aEmp[s,m+1]=ParIdentification$Remp\n",
    "    XXts=array(numeric(Nts)+1,c(Nts,1))\n",
    "    if (m>0)\n",
    "      for (j in 1:m)\n",
    "        XXts=cbind(XXts,Xts^j)\n",
    "    aFunct[s,m+1]=mean((Yts-XXts%*%t(ParIdentification$alpha))^2)\n",
    "  }\n",
    "\n",
    "colnames(aEmp)=0:M\n",
    "colnames(aFunct)=0:M\n",
    "boxplot(aEmp, ylab=\"Empirical risk\")\n",
    "boxplot(aFunct, ylab=\"Functional risk\")\n"
   ]
  }
 ],
 "metadata": {
  "jupytext": {
   "cell_metadata_filter": "tags,name,-all",
   "main_language": "R",
   "notebook_metadata_filter": "-all"
  }
 },
 "nbformat": 4,
 "nbformat_minor": 5
}
