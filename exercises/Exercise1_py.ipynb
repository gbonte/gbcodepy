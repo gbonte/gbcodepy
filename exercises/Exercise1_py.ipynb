{
 "cells": [
  {
   "cell_type": "markdown",
   "id": "a49ad63c-ca27-4b3b-9308-1ab7e95ae544",
   "metadata": {},
   "source": [
    "# Exercise 1\n",
    "## Bias of estimators: analytical derivation, Monte Carlo simulation and bootstrap simulation\n",
    "### G. Bontempi\n"
   ]
  },
  {
   "cell_type": "markdown",
   "id": "1e10a179",
   "metadata": {},
   "source": [
    "## Question\n",
    "\n",
    "Let us consider a normal r.v. ${\\mathbf z}$ such that $E[{\\mathbf z}]=\\mu$ and $\\text{Var}[{\\mathbf z}]=\\sigma^2$.\n",
    "Suppose we want to estimate from i.i.d. dataset $D_N$ the parameter $\\theta=\\mu^2=(E[\\mathbf{z}])^2$.\n",
    "Let us consider three estimators:\n",
    "\n",
    "$$\\hat{\\theta}_1=\\left(\\frac{\\sum_{i=1}^N{z_i}}{N} \\right)^2$$"
   ]
  },
  {
   "cell_type": "markdown",
   "id": "e68dd14b",
   "metadata": {},
   "source": [
    "$$\\hat{\\theta}_2=\\frac{\\sum_{i=1}^N{z_i^2}}{N} $$"
   ]
  },
  {
   "cell_type": "markdown",
   "id": "9542f19e",
   "metadata": {},
   "source": [
    "$$\\hat{\\theta}_3=\\frac{ (\\sum_{i=1}^N{z_i})^2}{N} $$\n"
   ]
  },
  {
   "cell_type": "markdown",
   "id": "f38879ba",
   "metadata": {},
   "source": [
    "* Are they unbiased? \n",
    "* Compute analytically the bias.\n",
    "* Verify the result by Monte Carlo simulation for different values of $N$.\n",
    "* Estimate the bias by bootstrap."
   ]
  },
  {
   "cell_type": "markdown",
   "id": "aa506d90",
   "metadata": {},
   "source": [
    "## Analytical derivation of bias\n",
    "\n",
    "### 1st estimator\n",
    "Since $\\text{Cov}[{\\mathbf z}_i, {\\mathbf z}_j]=0$ and $E[{\\mathbf z}^2]=\\mu^2+\\sigma^2$,\n",
    "\n",
    "$$E[\\hat{\\mathbf{\\theta}}_1]=\\frac{1}{N^2} E\\left[\\left(\\sum_{i=1}^N{\\mathbf{z}_i}\\right)^2\\right]=\n",
    "\\frac{1}{N^2} E\\left[\\sum_{i=1}^N{\\mathbf{z}_i^2} + 2 \\sum_{i < j}^N{\\mathbf{z}_i \\mathbf{z}_j}\\right]=\\\\\n",
    "=\\frac{1}{N^2} (N\\mu^2 +N \\sigma^2 + N(N-1) \\mu^2)= \\mu^2+\\frac{\\sigma^2}{N}$$\n",
    "\n",
    "then the bias of the first estimator is $B_1=E[\\hat{\\mathbf{\\theta}}_1]-\\mu^2=\\frac{\\sigma^2}{N}$.\n",
    "\n",
    "### 2nd estimator\n",
    "\n",
    "$$E[\\hat{\\mathbf{\\theta}}_2]=\\frac{1}{N} E\\left[\\left(\\sum_{i=1}^N{\\mathbf{z}_i^2}\\right)\\right]=\n",
    "\\frac{N\\mu^2 +N \\sigma^2}{N}=\\mu^2 +\\sigma^2$$\n",
    "then the bias of the second estimator is $B_2=E[\\hat{\\mathbf{\\theta}}_2]-\\mu^2=\\sigma^2$."
   ]
  },
  {
   "cell_type": "markdown",
   "id": "4f3788f7",
   "metadata": {},
   "source": [
    "### 3rd estimator\n",
    "\n",
    "$$E[\\hat{\\theta}_3]=N E[\\hat{\\theta}_1]=N \\mu^2+\\sigma^2$$\n",
    "then the bias of the thirs estimator is $B_3=E[\\hat{\\theta}_3]-\\mu^2=(N-1) \\mu^2+\\sigma^2$.\n",
    "\n",
    "The three estimators are biased.\n",
    "\n",
    "## Random variable distribution"
   ]
  },
  {
   "cell_type": "code",
   "execution_count": 6,
   "id": "14b6ac7f",
   "metadata": {
    "lines_to_next_cell": 2
   },
   "outputs": [
    {
     "name": "stdout",
     "output_type": "stream",
     "text": [
      "anB1= 0.01 anB2= 1 anB3= 397.12560690395736\n"
     ]
    }
   ],
   "source": [
    "import numpy as np\n",
    "\n",
    "muz = 2\n",
    "sdz = 1\n",
    "\n",
    "N = 100  # number of samples\n",
    "\n",
    "# Analytical results\n",
    "anB1 = sdz**2 / N\n",
    "anB2 = sdz**2\n",
    "anB3 = sdz**2 + (N - 1) * muz**2\n",
    "print('anB1=', anB1, 'anB2=', anB2, 'anB3=', mcB3)"
   ]
  },
  {
   "cell_type": "markdown",
   "id": "0568c6cf",
   "metadata": {},
   "source": [
    "## Monte Carlo simulation\n",
    "\n",
    "We need to make an hypothesis about the ${\\mathbf z}$ distribution\n",
    "if we want to simulate sample generation.\n",
    "We assume here the ${\\mathbf z} \\sim N(\\mu,\\sigma^2)$ is Normal."
   ]
  },
  {
   "cell_type": "code",
   "execution_count": 7,
   "id": "1af3da64",
   "metadata": {
    "lines_to_next_cell": 2,
    "name": "Monte Carlo simulation",
    "run": false
   },
   "outputs": [
    {
     "name": "stdout",
     "output_type": "stream",
     "text": [
      "mCB1= 0.009675303816949032 mCB2= 1.00082019102169 mCB3= 396.9675303816948\n"
     ]
    }
   ],
   "source": [
    "import numpy as np\n",
    "\n",
    "S = 10000  # number of Monte Carlo trials\n",
    "\n",
    "muhat2_1 = []\n",
    "muhat2_2 = []\n",
    "muhat2_3 = []\n",
    "\n",
    "for s in range(S):\n",
    "    DN = np.random.normal(muz, scale=sdz, size=N)\n",
    "    muhat2_1.append(np.mean(DN)**2)\n",
    "    muhat2_2.append(np.sum(DN**2) / N)\n",
    "    muhat2_3.append(np.sum(DN)**2 / N)\n",
    "\n",
    "mcB1 = np.mean(muhat2_1) - muz**2\n",
    "mcB2 = np.mean(muhat2_2) - muz**2\n",
    "mcB3 = np.mean(muhat2_3) - muz**2\n",
    "\n",
    "\n",
    "print('mCB1=', mcB1, 'mCB2=', mcB2, 'mCB3=', mcB3)"
   ]
  },
  {
   "cell_type": "markdown",
   "id": "2ef4fab4",
   "metadata": {
    "lines_to_next_cell": 0
   },
   "source": [
    "## Bootstrap estimation\n",
    "\n",
    "Let us first note that only the first estimator is a plug-in estimator of $(E[\\mathbf{z}])^2$.\n",
    "This is then the one that should be used to estimate the gap \n",
    "$$\n",
    "\\text{Bias}_{bs}=\\frac{\\sum_{b=1}^B \\theta_{(b)}}{B}-\\hat{\\theta}_1\n",
    "$$\n",
    "for all the three estimators."
   ]
  },
  {
   "cell_type": "code",
   "execution_count": 9,
   "id": "63ae2fcd",
   "metadata": {
    "lines_to_next_cell": 2,
    "name": "boostrap",
    "run": false
   },
   "outputs": [],
   "source": [
    "B = 10000\n",
    "N = len(DN)  # Assuming DN is already defined\n",
    "\n",
    "muhat2_1 = np.mean(DN)**2  # plug-in estimator\n",
    "muhat2_2 = np.sum(DN**2) / N\n",
    "muhat2_3 = np.sum(DN)**2 / N\n",
    "\n",
    "muhatb = []\n",
    "muhatb2 = []\n",
    "muhatb3 = []\n",
    "\n",
    "for b in range(B):\n",
    "    Ib = np.random.choice(N, size=N, replace=True)\n",
    "    Db = DN[Ib]\n",
    "    muhatb.append(np.mean(Db)**2)\n",
    "    muhatb2.append(np.sum(Db**2) / N)\n",
    "    muhatb3.append(np.sum(Db)**2 / N)\n",
    "\n",
    "bsB1 = np.mean(muhatb) - muhat2_1\n",
    "bsB2 = np.mean(muhatb2) - muhat2_1\n",
    "bsB3 = np.mean(muhatb3) - muhat2_1\n"
   ]
  },
  {
   "cell_type": "markdown",
   "id": "ce94c178",
   "metadata": {},
   "source": [
    "## Final check"
   ]
  },
  {
   "cell_type": "code",
   "execution_count": 10,
   "id": "843ca670",
   "metadata": {
    "lines_to_next_cell": 2,
    "name": "Results",
    "run": false
   },
   "outputs": [
    {
     "name": "stdout",
     "output_type": "stream",
     "text": [
      "anB1= 0.01 mcB1= 0.009675303816949032 bsB1= 0.013557959485252624\n",
      "anB2= 1 mcB2= 1.00082019102169 bsB2= 0.9999597707644239\n",
      "anB3= 397 mcB3= 396.9675303816948 bsB3= 368.94131554490855\n"
     ]
    }
   ],
   "source": [
    "\n",
    "print(f\"anB1= {anB1} mcB1= {mcB1} bsB1= {bsB1}\")\n",
    "print(f\"anB2= {anB2} mcB2= {mcB2} bsB2= {bsB2}\")\n",
    "print(f\"anB3= {anB3} mcB3= {mcB3} bsB3= {bsB3}\")"
   ]
  },
  {
   "cell_type": "markdown",
   "id": "877b4211",
   "metadata": {},
   "source": [
    "Try for different values of $\\mu$, $\\sigma^2$, $N$, $B$ and $S$."
   ]
  },
  {
   "cell_type": "code",
   "execution_count": null,
   "id": "765d18b0-2f41-4953-a423-5f1557fdb496",
   "metadata": {},
   "outputs": [],
   "source": []
  },
  {
   "cell_type": "code",
   "execution_count": null,
   "id": "a06cd68a-1b84-4689-af53-13918a8c21f6",
   "metadata": {},
   "outputs": [],
   "source": []
  },
  {
   "cell_type": "code",
   "execution_count": null,
   "id": "7c92a088-805b-4359-9928-5f3fd685dcbd",
   "metadata": {},
   "outputs": [],
   "source": []
  }
 ],
 "metadata": {
  "jupytext": {
   "cell_metadata_filter": "name,run,-all",
   "main_language": "python",
   "notebook_metadata_filter": "-all"
  },
  "kernelspec": {
   "display_name": "Python 3 (ipykernel)",
   "language": "python",
   "name": "python3"
  },
  "language_info": {
   "codemirror_mode": {
    "name": "ipython",
    "version": 3
   },
   "file_extension": ".py",
   "mimetype": "text/x-python",
   "name": "python",
   "nbconvert_exporter": "python",
   "pygments_lexer": "ipython3",
   "version": "3.12.8"
  }
 },
 "nbformat": 4,
 "nbformat_minor": 5
}
