{
 "cells": [
  {
   "cell_type": "markdown",
   "id": "2b8daa12-5c97-46fd-a2ac-e624ed327672",
   "metadata": {},
   "source": [
    "# Exercise 7\n",
    "## Empirical, functional and generalisation risk\n",
    "### G. Bontempi\n"
   ]
  },
  {
   "cell_type": "markdown",
   "id": "cd321bde",
   "metadata": {},
   "source": [
    "## Question\n",
    "Consider an input/output regression task where $n=1$, \n",
    "$E[{\\mathbf y}|x]=\\sin( \\pi/2 x)$,  $p(y|x) = {\\mathcal N} (\\sin( \\pi/2 x),\\sigma^2)$,\n",
    "$\\sigma=0.1$ and ${\\mathbf x} \\sim {\\mathcal U}(-2,2)$. Let $N$ be the size of the training set\n",
    "and consider a quadratic loss function.\n",
    "\n",
    "Let the class of hypothesis be $h_M(x)=\\alpha_0 +\\sum_{m=1}^M \\alpha_m x^m$ with\n",
    "$\\alpha_j \\in [-2,2], \\quad j=0,\\dots,M$.\n",
    "\n",
    "For $N=20$ generate $S=50$ replicates of the training set.\n",
    "For each replicate, estimate the value of the parameters that minimise the empirical risk, \n",
    "compute the empirical risk and the functional risk.\n",
    "\n",
    "The student should\n",
    "\n",
    "* Plot the evolution of the distribution of the empirical risk for $M=0,1,2$.\n",
    "* Plot the evolution of the distribution of the functional risk for $M=0,1,2$.\n",
    "* Discuss the results."
   ]
  },
  {
   "cell_type": "markdown",
   "id": "f94394eb",
   "metadata": {},
   "source": [
    "Hints: to minimise the empirical risk, perform a grid search in the space of \n",
    "parameter values, i.e.  by sweeping all the possible values of the parameters in the set\n",
    "$[-1,-0.9,-0.8,\\dots,0.8,0.9,1]$.  To compute the functional risk generate a set of $N_{ts}=10000$ i.i.d. input/output testing samples."
   ]
  },
  {
   "cell_type": "markdown",
   "id": "ca219e48",
   "metadata": {},
   "source": [
    "## Regression function\n",
    "\n",
    "Let us first define a function implementing the\n",
    "conditional expectation function, i.e. the regression function\n",
    "\n"
   ]
  },
  {
   "cell_type": "code",
   "execution_count": 1,
   "id": "98ae60e6",
   "metadata": {
    "name": "regression function"
   },
   "outputs": [],
   "source": [
    "\n",
    "def regr_f(x):\n",
    "    return np.sin(np.pi/2 * x)\n",
    "\n"
   ]
  },
  {
   "cell_type": "markdown",
   "id": "f5eb0cd1",
   "metadata": {},
   "source": [
    "## Parametric identification function\n",
    "\n",
    "This function implements the parametric identification by performing\n",
    "a grid search in the space of parameters.\n",
    "Note that for a degree equal to $m$, there are $m+1$ parameters.\n",
    "If each parameter takes value in a set of values of size $V$, the number\n",
    "of configurations to be assessed by grid search amounts to $V^{m+1}$. Grid search is definitely\n",
    "a poor way of carrying out a parametric identification. Here it is used only\n",
    "to illustrate the notions of empirical risk."
   ]
  },
  {
   "cell_type": "code",
   "execution_count": 25,
   "id": "081f1401",
   "metadata": {
    "lines_to_next_cell": 2,
    "name": "parametric identification"
   },
   "outputs": [],
   "source": [
    "def parident(X, Y, M=0):\n",
    "    import numpy as np\n",
    "    from itertools import product\n",
    "    \n",
    "    # set of values that can be taken by the parameter\n",
    "    A = np.arange(-1, 1.1, 0.1)\n",
    "    \n",
    "    N = len(X)\n",
    "    Xtr = np.ones(N)\n",
    "    \n",
    "    if M > 0:\n",
    "        for m in np.arange(M):\n",
    "            Xtr = np.column_stack((Xtr, X**(m+1)))\n",
    "    \n",
    "    # set of all possible combinations of values\n",
    "    l = [A] * (M+1)\n",
    "    cA = np.array(list(product(*l)))\n",
    "    \n",
    "    bestE = float('inf')\n",
    "    \n",
    "    # Grid search\n",
    "    for i in range(len(cA)):\n",
    "        #print(Xtr.shape)\n",
    "        Yhat = np.dot(Xtr.reshape(-1,M+1), cA[i])\n",
    "        ehat = np.mean((Yhat - Y)**2)\n",
    "        if ehat < bestE:\n",
    "            bestA = cA[i]  # best set of parameters\n",
    "            bestE = ehat   # empirical risk associated to the best set of parameters\n",
    "    \n",
    "    return {'alpha': bestA, 'Remp': bestE}\n"
   ]
  },
  {
   "cell_type": "markdown",
   "id": "f1479252",
   "metadata": {},
   "source": [
    "## Monte Carlo simulation\n",
    "\n",
    "Here we generate a number $S$ of training sets of size $N$.\n",
    "For each of them we perform the parametric identification, we select\n",
    "the set of parameters $\\alpha_N$ and we compute the functional risk \n",
    "by means of a test set of size $N_{ts}$"
   ]
  },
  {
   "cell_type": "code",
   "execution_count": 71,
   "id": "ad8d0598",
   "metadata": {
    "name": "Monte Carlo simulation"
   },
   "outputs": [
    {
     "data": {
      "image/png": "[encoded data removed]",
      "text/plain": [
       "<Figure size 1200x500 with 2 Axes>"
      ]
     },
     "metadata": {},
     "output_type": "display_data"
    }
   ],
   "source": [
    "import numpy as np\n",
    "import matplotlib.pyplot as plt\n",
    "from scipy.stats import uniform\n",
    "import pdb; \n",
    "sdw = 0.5 ## noise stdev\n",
    "S = 50 ## MC trails\n",
    "N = 15\n",
    "M = 3 ## max degree\n",
    "aEmp = np.empty((S, M+1))\n",
    "aFunct = np.empty((S, M+1))\n",
    "Nts = 10000\n",
    "\n",
    "# test set generation\n",
    "Xts = uniform.rvs(size=Nts)\n",
    "Yts = regr_f(Xts) + np.random.normal(0, sdw, Nts)\n",
    "\n",
    "for m in np.arange(M+1):\n",
    "    for s in range(S):\n",
    "        # training set generation\n",
    "        Xtr = uniform.rvs( size=N)\n",
    "        Ytr = regr_f(Xtr) + np.random.normal(0, sdw, N)\n",
    "        \n",
    "        ParIdentification = parident(Xtr, Ytr, m)\n",
    "        aEmp[s, m] = ParIdentification['Remp']\n",
    "        \n",
    "        XXts = np.ones((Nts, 1))\n",
    "        if m > 0:\n",
    "            for j in np.arange(m):\n",
    "                XXts = np.column_stack((XXts, Xts**(j+1)))\n",
    "        \n",
    "        aFunct[s, m] = np.mean((Yts - XXts @ ParIdentification['alpha'].T)**2)\n",
    "       \n",
    "\n",
    "# Create figure with two subplots\n",
    "fig, (ax1, ax2) = plt.subplots(1, 2, figsize=(12, 5))\n",
    "\n",
    "# Plot empirical risk\n",
    "ax1.boxplot(aEmp)\n",
    "ax1.set_xticklabels(np.arange(M+1))\n",
    "ax1.set_ylabel('Empirical risk')\n",
    "\n",
    "# Plot functional risk\n",
    "ax2.boxplot(aFunct)\n",
    "ax2.set_xticklabels(np.arange(M+1))\n",
    "ax2.set_ylabel('Functional risk')\n",
    "\n",
    "plt.show()\n"
   ]
  },
  {
   "cell_type": "code",
   "execution_count": null,
   "id": "493f0d05-edb9-4022-a59b-bf2c4089be51",
   "metadata": {},
   "outputs": [],
   "source": []
  }
 ],
 "metadata": {
  "jupytext": {
   "cell_metadata_filter": "tags,name,-all",
   "main_language": "R",
   "notebook_metadata_filter": "-all"
  },
  "kernelspec": {
   "display_name": "Python 3 (ipykernel)",
   "language": "python",
   "name": "python3"
  },
  "language_info": {
   "codemirror_mode": {
    "name": "ipython",
    "version": 3
   },
   "file_extension": ".py",
   "mimetype": "text/x-python",
   "name": "python",
   "nbconvert_exporter": "python",
   "pygments_lexer": "ipython3",
   "version": "3.10.14"
  }
 },
 "nbformat": 4,
 "nbformat_minor": 5
}
