{
 "cells": [
  {
   "cell_type": "code",
   "execution_count": null,
   "id": "3dca2e01",
   "metadata": {},
   "outputs": [],
   "source": [
    "!pip install annoy "
   ]
  },
  {
   "cell_type": "code",
   "execution_count": null,
   "id": "a0cbe5e0",
   "metadata": {},
   "outputs": [],
   "source": [
    "import numpy as np\n",
    "from annoy import AnnoyIndex\n",
    "\n",
    "def find_knn(data, query_point, k, metric='euclidean'):\n",
    "  \"\"\"Finds the K nearest neighbors of a query point in a dataset.\n",
    "\n",
    "  Args:\n",
    "    data: A NumPy array representing the dataset.\n",
    "    query_point: A NumPy array representing the query point.\n",
    "    k: The number of nearest neighbors to find.\n",
    "    metric: The distance metric to use ('euclidean', 'angular', etc.).\n",
    "\n",
    "  Returns:\n",
    "    A tuple containing two NumPy arrays:\n",
    "      - The indices of the K nearest neighbors in the dataset.\n",
    "      - The distances to the K nearest neighbors.\n",
    "  \"\"\"\n",
    "\n",
    "  num_dimensions = data.shape[1]\n",
    "  index = AnnoyIndex(num_dimensions, metric)\n",
    "\n",
    "  for i, point in enumerate(data):\n",
    "    index.add_item(i, point)\n",
    "\n",
    "  index.build(10)  # Build the index with 10 trees (adjust as needed)\n",
    "\n",
    "  indices, distances = index.get_nns_by_vector(query_point, k, include_distances=True)\n",
    "\n",
    "  return indices, distances\n",
    "\n",
    "# Example usage:\n",
    "data = np.random.rand(1000, 10)  # Example dataset with 1000 points in 10 dimensions\n",
    "query_point = np.random.rand(10)  # Example query point\n",
    "\n",
    "k = 5  # Find the 5 nearest neighbors\n",
    "\n",
    "indices, distances = find_knn(data, query_point, k)\n",
    "\n",
    "print(\"Indices of nearest neighbors:\", indices)\n",
    "print(\"Distances to nearest neighbors:\", distances)"
   ]
  }
 ],
 "metadata": {
  "kernelspec": {
   "display_name": "Python 3 (ipykernel)",
   "language": "python",
   "name": "python3"
  },
  "language_info": {
   "codemirror_mode": {
    "name": "ipython",
    "version": 3
   },
   "file_extension": ".py",
   "mimetype": "text/x-python",
   "name": "python",
   "nbconvert_exporter": "python",
   "pygments_lexer": "ipython3",
   "version": "3.11.7"
  }
 },
 "nbformat": 4,
 "nbformat_minor": 5
}
