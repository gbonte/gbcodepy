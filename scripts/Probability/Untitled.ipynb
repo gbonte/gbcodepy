{
 "cells": [
  {
   "cell_type": "code",
   "execution_count": 3,
   "id": "c95668a0",
   "metadata": {},
   "outputs": [
    {
     "name": "stdout",
     "output_type": "stream",
     "text": [
      "P[mu-1*sigma <= z <= mu+1*sigma]: Monte Carlo: 0.682871 analytical: 0.682689\n",
      "P[mu-1.282*sigma <= z <= mu+1.282*sigma]: Monte Carlo: 0.800432 analytical: 0.800157\n",
      "P[mu-1.645*sigma <= z <= mu+1.645*sigma]: Monte Carlo: 0.899935 analytical: 0.900030\n",
      "P[mu-1.96*sigma <= z <= mu+1.96*sigma]: Monte Carlo: 0.950247 analytical: 0.950004\n",
      "P[mu-2*sigma <= z <= mu+2*sigma]: Monte Carlo: 0.954575 analytical: 0.954500\n",
      "P[mu-2.57*sigma <= z <= mu+2.57*sigma]: Monte Carlo: 0.989731 analytical: 0.989830\n",
      "P[mu-3*sigma <= z <= mu+3*sigma]: Monte Carlo: 0.997331 analytical: 0.997300\n"
     ]
    }
   ],
   "source": [
    "import numpy as np\n",
    "from scipy import stats\n",
    "\n",
    "np.random.seed(0)\n",
    "N = 1000000\n",
    "mu = 1\n",
    "sigma = 2\n",
    "\n",
    "DN = np.random.normal(mu, sigma, N)\n",
    "\n",
    "for size in [1, 1.282, 1.645, 1.96, 2, 2.57, 3]:\n",
    "    monte_carlo = np.sum((DN <= (mu + size * sigma)) & (DN >= (mu - size * sigma))) / N\n",
    "    analytical = stats.norm.cdf(mu + size * sigma, mu, sigma) - stats.norm.cdf(mu - size * sigma, mu, sigma)\n",
    "    print(f\"P[mu-{size}*sigma <= z <= mu+{size}*sigma]: Monte Carlo: {monte_carlo:.6f} analytical: {analytical:.6f}\")\n"
   ]
  },
  {
   "cell_type": "code",
   "execution_count": null,
   "id": "d60bece3",
   "metadata": {},
   "outputs": [],
   "source": []
  }
 ],
 "metadata": {
  "kernelspec": {
   "display_name": "Python 3 (ipykernel)",
   "language": "python",
   "name": "python3"
  },
  "language_info": {
   "codemirror_mode": {
    "name": "ipython",
    "version": 3
   },
   "file_extension": ".py",
   "mimetype": "text/x-python",
   "name": "python",
   "nbconvert_exporter": "python",
   "pygments_lexer": "ipython3",
   "version": "3.11.7"
  }
 },
 "nbformat": 4,
 "nbformat_minor": 5
}
